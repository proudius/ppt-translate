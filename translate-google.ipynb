{
 "cells": [
  {
   "cell_type": "code",
   "execution_count": null,
   "metadata": {},
   "outputs": [],
   "source": [
    "from pptx import Presentation\n",
    "import os\n",
    "import sys\n",
    "import urllib.request\n",
    "import json\n",
    "from urllib.parse import urlparse\n",
    "import re\n",
    "import time\n",
    "from googletrans import Translator\n",
    "translator = Translator()"
   ]
  },
  {
   "cell_type": "code",
   "execution_count": null,
   "metadata": {},
   "outputs": [],
   "source": [
    "def ProcessAll(prs):\n",
    "    for slide in prs.slides:\n",
    "        ProcessSlide(slide)"
   ]
  },
  {
   "cell_type": "code",
   "execution_count": null,
   "metadata": {},
   "outputs": [],
   "source": [
    "def ProcessRange(prs, start, end):\n",
    "    for i in range(start,min(end, len(prs.slides))):\n",
    "        ProcessSlide(prs.slides[i])"
   ]
  },
  {
   "cell_type": "code",
   "execution_count": null,
   "metadata": {},
   "outputs": [],
   "source": [
    "def ProcessSlide(slide):\n",
    "    for shape in slide.shapes:\n",
    "        if not shape.has_text_frame:\n",
    "            continue\n",
    "        for paragraph in shape.text_frame.paragraphs:\n",
    "            if len(re.sub(\"[^a-zA-Z]\", \"\", paragraph.text)) < 1:\n",
    "                continue\n",
    "            time.sleep(0.2)\n",
    "            translated = translator.translate(paragraph.text,src='en', dest='ko')\n",
    "            print(translated.text)\n",
    "            paragraph.text = translated.text\n"
   ]
  },
  {
   "cell_type": "code",
   "execution_count": null,
   "metadata": {},
   "outputs": [],
   "source": [
    "prs = Presentation(\"14장.pptx\")\n",
    "#ProcessSlide(prs.slides[7])\n",
    "ProcessAll(prs)\n",
    "#ProcessRange(prs, 50,63)\n",
    "prs.save(\"14gk.pptx\")"
   ]
  },
  {
   "cell_type": "code",
   "execution_count": null,
   "metadata": {},
   "outputs": [],
   "source": [
    "#ProcessAll(prs)\n",
    "#ProcessSlide(prs.slides[9])"
   ]
  },
  {
   "cell_type": "code",
   "execution_count": null,
   "metadata": {},
   "outputs": [],
   "source": []
  },
  {
   "cell_type": "code",
   "execution_count": null,
   "metadata": {},
   "outputs": [],
   "source": []
  },
  {
   "cell_type": "code",
   "execution_count": null,
   "metadata": {},
   "outputs": [],
   "source": []
  },
  {
   "cell_type": "code",
   "execution_count": null,
   "metadata": {},
   "outputs": [],
   "source": []
  }
 ],
 "metadata": {
  "kernelspec": {
   "display_name": "Python 3",
   "language": "python",
   "name": "python3"
  },
  "language_info": {
   "codemirror_mode": {
    "name": "ipython",
    "version": 3
   },
   "file_extension": ".py",
   "mimetype": "text/x-python",
   "name": "python",
   "nbconvert_exporter": "python",
   "pygments_lexer": "ipython3",
   "version": "3.6.6"
  }
 },
 "nbformat": 4,
 "nbformat_minor": 2
}
